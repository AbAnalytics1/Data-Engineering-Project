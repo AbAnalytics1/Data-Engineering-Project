{
 "cells": [
  {
   "cell_type": "code",
   "execution_count": 2,
   "id": "92f25d04",
   "metadata": {},
   "outputs": [
    {
     "name": "stdout",
     "output_type": "stream",
     "text": [
      "Requirement already satisfied: kafka-python in /Users/abenadonkor/opt/anaconda3/lib/python3.9/site-packages (2.0.2)\n",
      "Note: you may need to restart the kernel to use updated packages.\n"
     ]
    }
   ],
   "source": [
    "pip install kafka-python"
   ]
  },
  {
   "cell_type": "code",
   "execution_count": 3,
   "id": "c76b1518",
   "metadata": {},
   "outputs": [],
   "source": [
    "import pandas as pd\n",
    "from kafka import KafkaProducer, KafkaConsumer\n",
    "from time import sleep\n",
    "from json import dumps\n",
    "import json"
   ]
  },
  {
   "cell_type": "code",
   "execution_count": 4,
   "id": "538a8c88",
   "metadata": {},
   "outputs": [],
   "source": [
    "import logging\n",
    "logging.basicConfig(level=logging.DEBUG)"
   ]
  },
  {
   "cell_type": "code",
   "execution_count": 6,
   "id": "d76865e5",
   "metadata": {
    "scrolled": true
   },
   "outputs": [
    {
     "name": "stderr",
     "output_type": "stream",
     "text": [
      "DEBUG:kafka.producer.kafka:Starting the Kafka producer\n",
      "DEBUG:kafka.metrics.metrics:Added sensor with name connections-closed\n",
      "DEBUG:kafka.metrics.metrics:Added sensor with name connections-created\n",
      "DEBUG:kafka.metrics.metrics:Added sensor with name select-time\n",
      "DEBUG:kafka.metrics.metrics:Added sensor with name io-time\n",
      "DEBUG:kafka.client:Initiating connection to node bootstrap-0 at 3.8.195.157:9092\n",
      "DEBUG:kafka.metrics.metrics:Added sensor with name bytes-sent-received\n",
      "DEBUG:kafka.metrics.metrics:Added sensor with name bytes-sent\n",
      "DEBUG:kafka.metrics.metrics:Added sensor with name bytes-received\n",
      "DEBUG:kafka.metrics.metrics:Added sensor with name request-latency\n",
      "DEBUG:kafka.metrics.metrics:Added sensor with name node-bootstrap-0.bytes-sent\n",
      "DEBUG:kafka.metrics.metrics:Added sensor with name node-bootstrap-0.bytes-received\n",
      "DEBUG:kafka.metrics.metrics:Added sensor with name node-bootstrap-0.latency\n",
      "DEBUG:kafka.conn:<BrokerConnection node_id=bootstrap-0 host=3.8.195.157:9092 <disconnected> [IPv4 None]>: creating new socket\n",
      "DEBUG:kafka.conn:<BrokerConnection node_id=bootstrap-0 host=3.8.195.157:9092 <disconnected> [IPv4 ('3.8.195.157', 9092)]>: setting socket option (6, 1, 1)\n",
      "INFO:kafka.conn:<BrokerConnection node_id=bootstrap-0 host=3.8.195.157:9092 <connecting> [IPv4 ('3.8.195.157', 9092)]>: connecting to 3.8.195.157:9092 [('3.8.195.157', 9092) IPv4]\n",
      "INFO:kafka.conn:Probing node bootstrap-0 broker version\n"
     ]
    },
    {
     "ename": "NoBrokersAvailable",
     "evalue": "NoBrokersAvailable",
     "output_type": "error",
     "traceback": [
      "\u001b[0;31m---------------------------------------------------------------------------\u001b[0m",
      "\u001b[0;31mNoBrokersAvailable\u001b[0m                        Traceback (most recent call last)",
      "Input \u001b[0;32mIn [6]\u001b[0m, in \u001b[0;36m<cell line: 1>\u001b[0;34m()\u001b[0m\n\u001b[0;32m----> 1\u001b[0m producer \u001b[38;5;241m=\u001b[39m \u001b[43mKafkaProducer\u001b[49m\u001b[43m(\u001b[49m\u001b[43mbootstrap_servers\u001b[49m\u001b[38;5;241;43m=\u001b[39;49m\u001b[43m[\u001b[49m\u001b[38;5;124;43m'\u001b[39;49m\u001b[38;5;124;43m3.8.195.157:9092\u001b[39;49m\u001b[38;5;124;43m'\u001b[39;49m\u001b[43m]\u001b[49m\u001b[43m,\u001b[49m\u001b[43m \u001b[49m\u001b[38;5;66;43;03m#change ip here\u001b[39;49;00m\n\u001b[1;32m      2\u001b[0m \u001b[43m                         \u001b[49m\u001b[43mvalue_serializer\u001b[49m\u001b[38;5;241;43m=\u001b[39;49m\u001b[38;5;28;43;01mlambda\u001b[39;49;00m\u001b[43m \u001b[49m\u001b[43mx\u001b[49m\u001b[43m:\u001b[49m\u001b[43m \u001b[49m\n\u001b[1;32m      3\u001b[0m \u001b[43m                         \u001b[49m\u001b[43mdumps\u001b[49m\u001b[43m(\u001b[49m\u001b[43mx\u001b[49m\u001b[43m)\u001b[49m\u001b[38;5;241;43m.\u001b[39;49m\u001b[43mencode\u001b[49m\u001b[43m(\u001b[49m\u001b[38;5;124;43m'\u001b[39;49m\u001b[38;5;124;43mutf-8\u001b[39;49m\u001b[38;5;124;43m'\u001b[39;49m\u001b[43m)\u001b[49m\u001b[43m)\u001b[49m\n",
      "File \u001b[0;32m~/opt/anaconda3/lib/python3.9/site-packages/kafka/producer/kafka.py:381\u001b[0m, in \u001b[0;36mKafkaProducer.__init__\u001b[0;34m(self, **configs)\u001b[0m\n\u001b[1;32m    378\u001b[0m reporters \u001b[38;5;241m=\u001b[39m [reporter() \u001b[38;5;28;01mfor\u001b[39;00m reporter \u001b[38;5;129;01min\u001b[39;00m \u001b[38;5;28mself\u001b[39m\u001b[38;5;241m.\u001b[39mconfig[\u001b[38;5;124m'\u001b[39m\u001b[38;5;124mmetric_reporters\u001b[39m\u001b[38;5;124m'\u001b[39m]]\n\u001b[1;32m    379\u001b[0m \u001b[38;5;28mself\u001b[39m\u001b[38;5;241m.\u001b[39m_metrics \u001b[38;5;241m=\u001b[39m Metrics(metric_config, reporters)\n\u001b[0;32m--> 381\u001b[0m client \u001b[38;5;241m=\u001b[39m \u001b[43mKafkaClient\u001b[49m\u001b[43m(\u001b[49m\u001b[43mmetrics\u001b[49m\u001b[38;5;241;43m=\u001b[39;49m\u001b[38;5;28;43mself\u001b[39;49m\u001b[38;5;241;43m.\u001b[39;49m\u001b[43m_metrics\u001b[49m\u001b[43m,\u001b[49m\u001b[43m \u001b[49m\u001b[43mmetric_group_prefix\u001b[49m\u001b[38;5;241;43m=\u001b[39;49m\u001b[38;5;124;43m'\u001b[39;49m\u001b[38;5;124;43mproducer\u001b[39;49m\u001b[38;5;124;43m'\u001b[39;49m\u001b[43m,\u001b[49m\n\u001b[1;32m    382\u001b[0m \u001b[43m                     \u001b[49m\u001b[43mwakeup_timeout_ms\u001b[49m\u001b[38;5;241;43m=\u001b[39;49m\u001b[38;5;28;43mself\u001b[39;49m\u001b[38;5;241;43m.\u001b[39;49m\u001b[43mconfig\u001b[49m\u001b[43m[\u001b[49m\u001b[38;5;124;43m'\u001b[39;49m\u001b[38;5;124;43mmax_block_ms\u001b[39;49m\u001b[38;5;124;43m'\u001b[39;49m\u001b[43m]\u001b[49m\u001b[43m,\u001b[49m\n\u001b[1;32m    383\u001b[0m \u001b[43m                     \u001b[49m\u001b[38;5;241;43m*\u001b[39;49m\u001b[38;5;241;43m*\u001b[39;49m\u001b[38;5;28;43mself\u001b[39;49m\u001b[38;5;241;43m.\u001b[39;49m\u001b[43mconfig\u001b[49m\u001b[43m)\u001b[49m\n\u001b[1;32m    385\u001b[0m \u001b[38;5;66;03m# Get auto-discovered version from client if necessary\u001b[39;00m\n\u001b[1;32m    386\u001b[0m \u001b[38;5;28;01mif\u001b[39;00m \u001b[38;5;28mself\u001b[39m\u001b[38;5;241m.\u001b[39mconfig[\u001b[38;5;124m'\u001b[39m\u001b[38;5;124mapi_version\u001b[39m\u001b[38;5;124m'\u001b[39m] \u001b[38;5;129;01mis\u001b[39;00m \u001b[38;5;28;01mNone\u001b[39;00m:\n",
      "File \u001b[0;32m~/opt/anaconda3/lib/python3.9/site-packages/kafka/client_async.py:244\u001b[0m, in \u001b[0;36mKafkaClient.__init__\u001b[0;34m(self, **configs)\u001b[0m\n\u001b[1;32m    242\u001b[0m \u001b[38;5;28;01mif\u001b[39;00m \u001b[38;5;28mself\u001b[39m\u001b[38;5;241m.\u001b[39mconfig[\u001b[38;5;124m'\u001b[39m\u001b[38;5;124mapi_version\u001b[39m\u001b[38;5;124m'\u001b[39m] \u001b[38;5;129;01mis\u001b[39;00m \u001b[38;5;28;01mNone\u001b[39;00m:\n\u001b[1;32m    243\u001b[0m     check_timeout \u001b[38;5;241m=\u001b[39m \u001b[38;5;28mself\u001b[39m\u001b[38;5;241m.\u001b[39mconfig[\u001b[38;5;124m'\u001b[39m\u001b[38;5;124mapi_version_auto_timeout_ms\u001b[39m\u001b[38;5;124m'\u001b[39m] \u001b[38;5;241m/\u001b[39m \u001b[38;5;241m1000\u001b[39m\n\u001b[0;32m--> 244\u001b[0m     \u001b[38;5;28mself\u001b[39m\u001b[38;5;241m.\u001b[39mconfig[\u001b[38;5;124m'\u001b[39m\u001b[38;5;124mapi_version\u001b[39m\u001b[38;5;124m'\u001b[39m] \u001b[38;5;241m=\u001b[39m \u001b[38;5;28;43mself\u001b[39;49m\u001b[38;5;241;43m.\u001b[39;49m\u001b[43mcheck_version\u001b[49m\u001b[43m(\u001b[49m\u001b[43mtimeout\u001b[49m\u001b[38;5;241;43m=\u001b[39;49m\u001b[43mcheck_timeout\u001b[49m\u001b[43m)\u001b[49m\n",
      "File \u001b[0;32m~/opt/anaconda3/lib/python3.9/site-packages/kafka/client_async.py:927\u001b[0m, in \u001b[0;36mKafkaClient.check_version\u001b[0;34m(self, node_id, timeout, strict)\u001b[0m\n\u001b[1;32m    924\u001b[0m \u001b[38;5;66;03m# Timeout\u001b[39;00m\n\u001b[1;32m    925\u001b[0m \u001b[38;5;28;01melse\u001b[39;00m:\n\u001b[1;32m    926\u001b[0m     \u001b[38;5;28mself\u001b[39m\u001b[38;5;241m.\u001b[39m_lock\u001b[38;5;241m.\u001b[39mrelease()\n\u001b[0;32m--> 927\u001b[0m     \u001b[38;5;28;01mraise\u001b[39;00m Errors\u001b[38;5;241m.\u001b[39mNoBrokersAvailable()\n",
      "\u001b[0;31mNoBrokersAvailable\u001b[0m: NoBrokersAvailable"
     ]
    }
   ],
   "source": [
    "producer = KafkaProducer(bootstrap_servers=['3.8.195.157:9092'], #change ip here\n",
    "                         value_serializer=lambda x: \n",
    "                         dumps(x).encode('utf-8'))\n"
   ]
  },
  {
   "cell_type": "code",
   "execution_count": 22,
   "id": "53a8ca32",
   "metadata": {},
   "outputs": [
    {
     "name": "stderr",
     "output_type": "stream",
     "text": [
      "DEBUG:kafka.producer.record_accumulator:Allocating a new 16384 byte message buffer for TopicPartition(topic='demo_test', partition=0)\n",
      "DEBUG:kafka.producer.sender:Nodes with data ready to send: {0}\n"
     ]
    },
    {
     "data": {
      "text/plain": [
       "<kafka.producer.future.FutureRecordMetadata at 0x7f8066f00d60>"
      ]
     },
     "execution_count": 22,
     "metadata": {},
     "output_type": "execute_result"
    },
    {
     "name": "stderr",
     "output_type": "stream",
     "text": [
      "DEBUG:kafka.producer.sender:Created 1 produce requests: {0: ProduceRequest_v7(transactional_id=None, required_acks=1, timeout=30000, topics=[(topic='demo_test', partitions=[(partition=0, messages=b'\\x00\\x00\\x00\\x00\\x00\\x00\\x00\\x00\\x00\\x00\\x00I\\x00\\x00\\x00\\x00\\x020\\x9fS\\xa8\\x00\\x00\\x00\\x00\\x00\\x00\\x00\\x00\\x01\\x8e\\xa4\\xda\\xb3U\\x00\\x00\\x01\\x8e\\xa4\\xda\\xb3U\\xff\\xff\\xff\\xff\\xff\\xff\\xff\\xff\\xff\\xff\\xff\\xff\\xff\\xff\\x00\\x00\\x00\\x01.\\x00\\x00\\x00\\x01\"{\"name\": \"Abena\"}\\x00')])])}\n",
      "DEBUG:kafka.producer.sender:Sending Produce Request: ProduceRequest_v7(transactional_id=None, required_acks=1, timeout=30000, topics=[(topic='demo_test', partitions=[(partition=0, messages=b'\\x00\\x00\\x00\\x00\\x00\\x00\\x00\\x00\\x00\\x00\\x00I\\x00\\x00\\x00\\x00\\x020\\x9fS\\xa8\\x00\\x00\\x00\\x00\\x00\\x00\\x00\\x00\\x01\\x8e\\xa4\\xda\\xb3U\\x00\\x00\\x01\\x8e\\xa4\\xda\\xb3U\\xff\\xff\\xff\\xff\\xff\\xff\\xff\\xff\\xff\\xff\\xff\\xff\\xff\\xff\\x00\\x00\\x00\\x01.\\x00\\x00\\x00\\x01\"{\"name\": \"Abena\"}\\x00')])])\n",
      "DEBUG:kafka.protocol.parser:Sending request ProduceRequest_v7(transactional_id=None, required_acks=1, timeout=30000, topics=[(topic='demo_test', partitions=[(partition=0, messages=b'\\x00\\x00\\x00\\x00\\x00\\x00\\x00\\x00\\x00\\x00\\x00I\\x00\\x00\\x00\\x00\\x020\\x9fS\\xa8\\x00\\x00\\x00\\x00\\x00\\x00\\x00\\x00\\x01\\x8e\\xa4\\xda\\xb3U\\x00\\x00\\x01\\x8e\\xa4\\xda\\xb3U\\xff\\xff\\xff\\xff\\xff\\xff\\xff\\xff\\xff\\xff\\xff\\xff\\xff\\xff\\x00\\x00\\x00\\x01.\\x00\\x00\\x00\\x01\"{\"name\": \"Abena\"}\\x00')])])\n",
      "DEBUG:kafka.conn:<BrokerConnection node_id=0 host=3.8.195.157:9092 <connected> [IPv4 ('3.8.195.157', 9092)]> Request 3: ProduceRequest_v7(transactional_id=None, required_acks=1, timeout=30000, topics=[(topic='demo_test', partitions=[(partition=0, messages=b'\\x00\\x00\\x00\\x00\\x00\\x00\\x00\\x00\\x00\\x00\\x00I\\x00\\x00\\x00\\x00\\x020\\x9fS\\xa8\\x00\\x00\\x00\\x00\\x00\\x00\\x00\\x00\\x01\\x8e\\xa4\\xda\\xb3U\\x00\\x00\\x01\\x8e\\xa4\\xda\\xb3U\\xff\\xff\\xff\\xff\\xff\\xff\\xff\\xff\\xff\\xff\\xff\\xff\\xff\\xff\\x00\\x00\\x00\\x01.\\x00\\x00\\x00\\x01\"{\"name\": \"Abena\"}\\x00')])])\n",
      "DEBUG:kafka.protocol.parser:Received correlation id: 3\n",
      "DEBUG:kafka.protocol.parser:Processing response ProduceResponse_v7\n",
      "DEBUG:kafka.conn:<BrokerConnection node_id=0 host=3.8.195.157:9092 <connected> [IPv4 ('3.8.195.157', 9092)]> Response 3 (27.996301651000977 ms): ProduceResponse_v7(topics=[(topic='demo_test', partitions=[(partition=0, error_code=0, offset=5, timestamp=-1, log_start_offset=0)])], throttle_time_ms=0)\n",
      "DEBUG:kafka.producer.sender:Parsing produce response: ProduceResponse_v7(topics=[(topic='demo_test', partitions=[(partition=0, error_code=0, offset=5, timestamp=-1, log_start_offset=0)])], throttle_time_ms=0)\n",
      "DEBUG:kafka.producer.record_accumulator:Produced messages to topic-partition TopicPartition(topic='demo_test', partition=0) with base offset 5 log start offset 0 and error None.\n",
      "DEBUG:kafka.client:Sending metadata request MetadataRequest_v1(topics=['demo_test']) to node 0\n",
      "DEBUG:kafka.protocol.parser:Sending request MetadataRequest_v1(topics=['demo_test'])\n",
      "DEBUG:kafka.conn:<BrokerConnection node_id=0 host=3.8.195.157:9092 <connected> [IPv4 ('3.8.195.157', 9092)]> Request 4: MetadataRequest_v1(topics=['demo_test'])\n",
      "DEBUG:kafka.protocol.parser:Received correlation id: 4\n",
      "DEBUG:kafka.protocol.parser:Processing response MetadataResponse_v1\n",
      "DEBUG:kafka.conn:<BrokerConnection node_id=0 host=3.8.195.157:9092 <connected> [IPv4 ('3.8.195.157', 9092)]> Response 4 (28.936147689819336 ms): MetadataResponse_v1(brokers=[(node_id=0, host='3.8.195.157', port=9092, rack=None)], controller_id=0, topics=[(error_code=0, topic='demo_test', is_internal=False, partitions=[(error_code=0, partition=0, leader=0, replicas=[0], isr=[0])])])\n",
      "DEBUG:kafka.cluster:Updated cluster metadata to ClusterMetadata(brokers: 1, topics: 1, groups: 0)\n",
      "DEBUG:kafka.client:Sending metadata request MetadataRequest_v1(topics=['demo_test']) to node 0\n",
      "DEBUG:kafka.protocol.parser:Sending request MetadataRequest_v1(topics=['demo_test'])\n",
      "DEBUG:kafka.conn:<BrokerConnection node_id=0 host=3.8.195.157:9092 <connected> [IPv4 ('3.8.195.157', 9092)]> Request 5: MetadataRequest_v1(topics=['demo_test'])\n",
      "DEBUG:kafka.protocol.parser:Received correlation id: 5\n",
      "DEBUG:kafka.protocol.parser:Processing response MetadataResponse_v1\n",
      "DEBUG:kafka.conn:<BrokerConnection node_id=0 host=3.8.195.157:9092 <connected> [IPv4 ('3.8.195.157', 9092)]> Response 5 (38.06281089782715 ms): MetadataResponse_v1(brokers=[(node_id=0, host='3.8.195.157', port=9092, rack=None)], controller_id=0, topics=[(error_code=0, topic='demo_test', is_internal=False, partitions=[(error_code=0, partition=0, leader=0, replicas=[0], isr=[0])])])\n",
      "DEBUG:kafka.cluster:Updated cluster metadata to ClusterMetadata(brokers: 1, topics: 1, groups: 0)\n",
      "DEBUG:kafka.client:Sending metadata request MetadataRequest_v1(topics=['demo_test']) to node 0\n",
      "DEBUG:kafka.protocol.parser:Sending request MetadataRequest_v1(topics=['demo_test'])\n",
      "DEBUG:kafka.conn:<BrokerConnection node_id=0 host=3.8.195.157:9092 <connected> [IPv4 ('3.8.195.157', 9092)]> Request 6: MetadataRequest_v1(topics=['demo_test'])\n",
      "DEBUG:kafka.protocol.parser:Received correlation id: 6\n",
      "DEBUG:kafka.protocol.parser:Processing response MetadataResponse_v1\n",
      "DEBUG:kafka.conn:<BrokerConnection node_id=0 host=3.8.195.157:9092 <connected> [IPv4 ('3.8.195.157', 9092)]> Response 6 (35.881996154785156 ms): MetadataResponse_v1(brokers=[(node_id=0, host='3.8.195.157', port=9092, rack=None)], controller_id=0, topics=[(error_code=0, topic='demo_test', is_internal=False, partitions=[(error_code=0, partition=0, leader=0, replicas=[0], isr=[0])])])\n",
      "DEBUG:kafka.cluster:Updated cluster metadata to ClusterMetadata(brokers: 1, topics: 1, groups: 0)\n",
      "DEBUG:kafka.client:Sending metadata request MetadataRequest_v1(topics=['demo_test']) to node 0\n",
      "DEBUG:kafka.protocol.parser:Sending request MetadataRequest_v1(topics=['demo_test'])\n",
      "DEBUG:kafka.conn:<BrokerConnection node_id=0 host=3.8.195.157:9092 <connected> [IPv4 ('3.8.195.157', 9092)]> Request 7: MetadataRequest_v1(topics=['demo_test'])\n",
      "DEBUG:kafka.protocol.parser:Received correlation id: 7\n",
      "DEBUG:kafka.protocol.parser:Processing response MetadataResponse_v1\n",
      "DEBUG:kafka.conn:<BrokerConnection node_id=0 host=3.8.195.157:9092 <connected> [IPv4 ('3.8.195.157', 9092)]> Response 7 (28.28383445739746 ms): MetadataResponse_v1(brokers=[(node_id=0, host='3.8.195.157', port=9092, rack=None)], controller_id=0, topics=[(error_code=0, topic='demo_test', is_internal=False, partitions=[(error_code=0, partition=0, leader=0, replicas=[0], isr=[0])])])\n",
      "DEBUG:kafka.cluster:Updated cluster metadata to ClusterMetadata(brokers: 1, topics: 1, groups: 0)\n"
     ]
    }
   ],
   "source": [
    "producer.send('demo_test', value={'name':'Abena'})"
   ]
  },
  {
   "cell_type": "code",
   "execution_count": null,
   "id": "39bf93f0",
   "metadata": {},
   "outputs": [],
   "source": []
  }
 ],
 "metadata": {
  "kernelspec": {
   "display_name": "Python 3 (ipykernel)",
   "language": "python",
   "name": "python3"
  },
  "language_info": {
   "codemirror_mode": {
    "name": "ipython",
    "version": 3
   },
   "file_extension": ".py",
   "mimetype": "text/x-python",
   "name": "python",
   "nbconvert_exporter": "python",
   "pygments_lexer": "ipython3",
   "version": "3.9.12"
  }
 },
 "nbformat": 4,
 "nbformat_minor": 5
}
